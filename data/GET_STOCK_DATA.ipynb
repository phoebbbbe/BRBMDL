{
 "cells": [
  {
   "cell_type": "markdown",
   "metadata": {},
   "source": [
    "### 下載台灣加權指數和其前兩種成分股的時間序列歷史股價數據\n",
    "* https://www.taifex.com.tw/cht/9/futuresQADetail\n",
    "* 日期：2015-02-24 至 2025-01-22"
   ]
  },
  {
   "cell_type": "code",
   "execution_count": 1,
   "metadata": {},
   "outputs": [],
   "source": [
    "import yfinance as yf\n",
    "import numpy as np\n",
    "import pandas as pd\n",
    "import ta.trend\n",
    "import ta.momentum\n",
    "from sklearn.preprocessing import MinMaxScaler\n",
    "import time"
   ]
  },
  {
   "cell_type": "code",
   "execution_count": 2,
   "metadata": {},
   "outputs": [],
   "source": [
    "tickers = {\n",
    "    'taiex':'^TWII',\n",
    "    'tsmc':'2330.TW',\n",
    "    'mediatek':'2454.TW',\n",
    "    'foxconn':'2317.TW'\n",
    "}"
   ]
  },
  {
   "cell_type": "code",
   "execution_count": 5,
   "metadata": {},
   "outputs": [],
   "source": [
    "def calculate(df: pd.DataFrame):\n",
    "    df['dailyreturn'] = df['close'].pct_change()\n",
    "    df['macd'] = ta.trend.MACD(df['close'], window_slow=12, window_fast=6).macd()\n",
    "    df['rsi'] = ta.momentum.RSIIndicator(df['close'], window=6).rsi()\n",
    "    df['k'] = ta.momentum.StochasticOscillator(df['high'], df['low'], df['close'], window=6, smooth_window=2).stoch()\n",
    "    df['d'] = ta.momentum.StochasticOscillator(df['high'], df['low'], df['close'], window=6, smooth_window=2).stoch_signal()\n",
    "    df['r'] = ta.momentum.WilliamsRIndicator(df['high'], df['low'], df['close'], lbp=6).williams_r()\n",
    "    \n",
    "    return df"
   ]
  },
  {
   "cell_type": "code",
   "execution_count": 7,
   "metadata": {},
   "outputs": [
    {
     "name": "stderr",
     "output_type": "stream",
     "text": [
      "[*********************100%***********************]  1 of 1 completed\n",
      "\n",
      "1 Failed download:\n",
      "['^TWII']: YFRateLimitError('Too Many Requests. Rate limited. Try after a while.')\n"
     ]
    },
    {
     "name": "stdout",
     "output_type": "stream",
     "text": [
      "✅ taiex done\n"
     ]
    },
    {
     "name": "stderr",
     "output_type": "stream",
     "text": [
      "[*********************100%***********************]  1 of 1 completed\n",
      "\n",
      "1 Failed download:\n",
      "['2330.TW']: YFRateLimitError('Too Many Requests. Rate limited. Try after a while.')\n"
     ]
    },
    {
     "name": "stdout",
     "output_type": "stream",
     "text": [
      "✅ tsmc done\n"
     ]
    },
    {
     "name": "stderr",
     "output_type": "stream",
     "text": [
      "[*********************100%***********************]  1 of 1 completed\n",
      "\n",
      "1 Failed download:\n",
      "['2454.TW']: YFRateLimitError('Too Many Requests. Rate limited. Try after a while.')\n"
     ]
    },
    {
     "name": "stdout",
     "output_type": "stream",
     "text": [
      "✅ mediatek done\n"
     ]
    },
    {
     "name": "stderr",
     "output_type": "stream",
     "text": [
      "[*********************100%***********************]  1 of 1 completed\n",
      "\n",
      "1 Failed download:\n",
      "['2317.TW']: YFRateLimitError('Too Many Requests. Rate limited. Try after a while.')\n"
     ]
    },
    {
     "name": "stdout",
     "output_type": "stream",
     "text": [
      "✅ foxconn done\n"
     ]
    }
   ],
   "source": [
    "start_date = '2015-02-24'\n",
    "# start_date = '2010-02-22'\n",
    "end_date = '2025-01-22'\n",
    "\n",
    "for key, value in tickers.items():\n",
    "    try:\n",
    "        data = yf.download(value, start=start_date, end=end_date, auto_adjust=True, multi_level_index=False)\n",
    "        print(f'✅ {key} done')\n",
    "        data.columns = data.columns.str.lower()\n",
    "        data = calculate(data)\n",
    "        data.to_csv(f'./{key}_10y_raw.csv')\n",
    "    except Exception as e:\n",
    "        print(f'⚠️ {key} error: {e}')\n",
    "    time.sleep(5)"
   ]
  },
  {
   "cell_type": "code",
   "execution_count": 9,
   "metadata": {},
   "outputs": [
    {
     "name": "stdout",
     "output_type": "stream",
     "text": [
      "✅ taiex done\n",
      "✅ tsmc done\n",
      "✅ mediatek done\n",
      "✅ foxconn done\n"
     ]
    }
   ],
   "source": [
    "start_date = '2015-02-24'\n",
    "end_date = '2025-01-22'\n",
    "\n",
    "for key, value in tickers.items():\n",
    "    df = pd.read_csv(f'./15y/{key}_stock_data_15y.csv')\n",
    "    df['Date'] = pd.to_datetime(df['Date'])\n",
    "    df_10y = df[(df['Date'] >= start_date) & (df['Date'] <= end_date)]\n",
    "    try:\n",
    "        df_10y.to_csv(f'./{key}_10y_raw.csv', index=False)\n",
    "        print(f'✅ {key} done')\n",
    "    except Exception as e:\n",
    "        print(f'⚠️ {key} error: {e}')\n",
    "    "
   ]
  },
  {
   "cell_type": "code",
   "execution_count": 11,
   "metadata": {},
   "outputs": [],
   "source": [
    "def preprocess(ticker_name):\n",
    "    df = pd.read_csv(f'./10y/{ticker_name}_10y_raw.csv')\n",
    "    \n",
    "    # 新增前 1-5 天的價格數據\n",
    "    df['before1day'] = df['close'].shift(1)\n",
    "    df['before2day'] = df['close'].shift(2)\n",
    "    df['before3day'] = df['close'].shift(3)\n",
    "    df['before4day'] = df['close'].shift(4)\n",
    "    df['before5day'] = df['close'].shift(5)\n",
    "\n",
    "    # 轉換 Date 數據格式為 datetime\n",
    "    df['Date'] = pd.to_datetime(df['Date'])\n",
    "\n",
    "    # 清除缺失值\n",
    "    df = df.dropna()\n",
    "\n",
    "    # 進行 Min-Max 標準化\n",
    "    scaler = MinMaxScaler(feature_range=(0, 1))\n",
    "    df['close'] = scaler.fit_transform(df[['close']])\n",
    "    df['before1day'] = scaler.fit_transform(df[['before1day']])\n",
    "    df['before2day'] = scaler.fit_transform(df[['before2day']])\n",
    "    df['before3day'] = scaler.fit_transform(df[['before3day']])\n",
    "    df['before4day'] = scaler.fit_transform(df[['before4day']])\n",
    "    df['before5day'] = scaler.fit_transform(df[['before5day']])\n",
    "    df['macd'] = scaler.fit_transform(df[['macd']])\n",
    "    df['r'] = scaler.fit_transform(df[['r']])\n",
    "    df['rsi'] = scaler.fit_transform(df[['rsi']])\n",
    "    df['k'] = scaler.fit_transform(df[['k']])\n",
    "    df['d'] = scaler.fit_transform(df[['d']])\n",
    "\n",
    "        \n",
    "    df = df.drop(['high', 'low', 'volume'], axis=1)\n",
    "    df = df.reset_index(drop=True)\n",
    "\n",
    "    # 保存數據到CSV文件\n",
    "    df.to_csv(f'./{ticker_name}_10y_data.csv', index=False)"
   ]
  },
  {
   "cell_type": "code",
   "execution_count": 12,
   "metadata": {},
   "outputs": [],
   "source": [
    "for key, value in tickers.items():\n",
    "    preprocess(key)"
   ]
  },
  {
   "cell_type": "code",
   "execution_count": 13,
   "metadata": {},
   "outputs": [
    {
     "name": "stdout",
     "output_type": "stream",
     "text": [
      "✅ taiex done\n",
      "✅ tsmc done\n",
      "✅ mediatek done\n",
      "✅ foxconn done\n"
     ]
    }
   ],
   "source": [
    "for key, value in tickers.items():\n",
    "    df = pd.read_csv(f'./{key}_10y_data.csv')\n",
    "    df['Date'] = pd.to_datetime(df['Date'])\n",
    "    df = df.sort_values('Date').reset_index(drop=True)\n",
    "\n",
    "    split_index = int(len(df) * 0.7)\n",
    "    train_df = df.iloc[:split_index]\n",
    "    test_df = df.iloc[split_index:]\n",
    "\n",
    "    train_df.to_csv(f'../{key}_train_data.csv', index=False)\n",
    "    test_df.to_csv(f'../{key}_test_data.csv', index=False)\n",
    "    print(f'✅ {key} done')"
   ]
  },
  {
   "cell_type": "code",
   "execution_count": 3,
   "metadata": {},
   "outputs": [],
   "source": [
    "def preprocess2(ticker_name):\n",
    "    df = pd.read_csv(f'./10y/{ticker_name}_10y_raw.csv')\n",
    "\n",
    "    # 清除缺失值\n",
    "    df = df.dropna()\n",
    "\n",
    "    # 進行 Min-Max 標準化\n",
    "    scaler = MinMaxScaler(feature_range=(0, 1))\n",
    "    df['close'] = scaler.fit_transform(df[['close']])\n",
    "    df['macd'] = scaler.fit_transform(df[['macd']])\n",
    "    df['r'] = scaler.fit_transform(df[['r']])\n",
    "    df['rsi'] = scaler.fit_transform(df[['rsi']])\n",
    "    df['k'] = scaler.fit_transform(df[['k']])\n",
    "    df['d'] = scaler.fit_transform(df[['d']])\n",
    "\n",
    "        \n",
    "    df = df.drop(['high', 'low', 'volume'], axis=1)\n",
    "    df = df.reset_index(drop=True)\n",
    "    df['Date'] = pd.to_datetime(df['Date'])\n",
    "    df = df.sort_values('Date').reset_index(drop=True)\n",
    "\n",
    "    # 保存數據到CSV文件\n",
    "    split_index = int(len(df) * 0.7)\n",
    "    train_df = df.iloc[:split_index]\n",
    "    test_df = df.iloc[split_index:]\n",
    "\n",
    "    train_df.to_csv(f'../OtherModel/{key}_train_data.csv', index=False)\n",
    "    test_df.to_csv(f'../OtherModel/{key}_test_data.csv', index=False)\n",
    "    print(f'✅ {key} done')\n"
   ]
  },
  {
   "cell_type": "code",
   "execution_count": 4,
   "metadata": {},
   "outputs": [
    {
     "name": "stdout",
     "output_type": "stream",
     "text": [
      "✅ taiex done\n",
      "✅ tsmc done\n",
      "✅ mediatek done\n",
      "✅ foxconn done\n"
     ]
    }
   ],
   "source": [
    "for key, value in tickers.items():\n",
    "    preprocess2(key)"
   ]
  }
 ],
 "metadata": {
  "kernelspec": {
   "display_name": "brbm",
   "language": "python",
   "name": "python3"
  },
  "language_info": {
   "codemirror_mode": {
    "name": "ipython",
    "version": 3
   },
   "file_extension": ".py",
   "mimetype": "text/x-python",
   "name": "python",
   "nbconvert_exporter": "python",
   "pygments_lexer": "ipython3",
   "version": "3.9.16"
  }
 },
 "nbformat": 4,
 "nbformat_minor": 2
}
