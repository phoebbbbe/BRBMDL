{
 "cells": [
  {
   "cell_type": "markdown",
   "metadata": {},
   "source": [
    "# Test2-Cross Validation : Dataset-taiex -o/w sentiment"
   ]
  },
  {
   "cell_type": "code",
   "execution_count": 1,
   "metadata": {},
   "outputs": [],
   "source": [
    "from brbmdl import brbm, dataset_loading, process_dataset\n",
    "import numpy as np\n",
    "import pandas as pd\n",
    "from sklearn.metrics import accuracy_score, f1_score, precision_score, recall_score\n",
    "from sklearn.model_selection import KFold\n",
    "from sklearn.tree import DecisionTreeClassifier\n",
    "import pickle"
   ]
  },
  {
   "cell_type": "code",
   "execution_count": 2,
   "metadata": {},
   "outputs": [],
   "source": [
    "features = ['macd', 'rsi', 'k', 'd', 'r', 'close',\n",
    "            'before1day', 'before2day', 'before3day', 'before4day','before5day']\n",
    "target = 'dailyreturn'"
   ]
  },
  {
   "cell_type": "code",
   "execution_count": 3,
   "metadata": {},
   "outputs": [],
   "source": [
    "X_train, y_train = dataset_loading(features, target, './data/taiex_train_data.csv')\n",
    "X_test, y_test = dataset_loading(features, target, './data/taiex_test_data.csv')\n",
    "\n",
    "y_train_label = process_dataset(y_train, target)\n",
    "y_test_label = process_dataset(y_test, target)"
   ]
  },
  {
   "cell_type": "code",
   "execution_count": null,
   "metadata": {},
   "outputs": [
    {
     "name": "stderr",
     "output_type": "stream",
     "text": [
      "Optimize: 100%|██████████| 1348/1348 [03:38<00:00,  6.18it/s]\n",
      "Optimize: 100%|██████████| 1349/1349 [03:27<00:00,  6.51it/s]\n",
      "Optimize: 100%|██████████| 1349/1349 [03:24<00:00,  6.60it/s]\n",
      "Optimize: 100%|██████████| 1349/1349 [05:14<00:00,  4.29it/s] \n",
      "Optimize: 100%|██████████| 1349/1349 [03:03<00:00,  7.36it/s]\n"
     ]
    },
    {
     "name": "stdout",
     "output_type": "stream",
     "text": [
      "BRBMDL 5折交叉驗證 平均 Accuracy: 77.88\n",
      "BRBMDL 5折交叉驗證 平均 Precision: 77.77\n",
      "BRBMDL 5折交叉驗證 平均 Recall: 77.98\n",
      "BRBMDL 5折交叉驗證 平均 F1 Score: 77.77\n"
     ]
    }
   ],
   "source": [
    "val_df = pd.concat([X_train, y_train_label], axis=1)\n",
    "kf = KFold(n_splits=5, shuffle=True, random_state=42)\n",
    "\n",
    "accuracy_list, precision_list, recall_list, f1_list = [], [], [], []\n",
    "\n",
    "for train_idx, val_idx in kf.split(val_df):\n",
    "    X_train_part = X_train.iloc[train_idx]\n",
    "    y_train_part = y_train.iloc[train_idx]\n",
    "    y_train_label_part = y_train_label.iloc[train_idx]\n",
    "    X_val_part = X_train.iloc[val_idx]\n",
    "    y_val_part = y_train_label.iloc[val_idx]\n",
    "\n",
    "    brb_model = brbm(features, target)\n",
    "    brb_model.set_ante_labels(['superlow', 'low', 'medium', 'high', 'superhigh'])\n",
    "    brb_model.set_cons_labels(['down', 'up'])\n",
    "\n",
    "    # brb_model.set_all_ante_fuzzy_ranges(X_train_part, y_train_label_part, features)\n",
    "    brb_model.set_all_ante_fuzzy_ranges('./dtree_models/decision_tree_model2.pkl', features)\n",
    "    cons_fuzzy_range = [\n",
    "        [-1.0, -0.7, -0.25, 0.0],\n",
    "        [0.0, 0.25, 0.7, 1.0]\n",
    "    ]\n",
    "    brb_model.set_cons_fuzzy_range(cons_fuzzy_range)\n",
    "    brb_model.inital_database(X_train_part, y_train_part)\n",
    "    brb_model.inital_rulebase()\n",
    "    brb_model.preprocess_database()\n",
    "    brb_model.optimize(X_train_part, y_train_part, features, target)\n",
    "    \n",
    "    y_val_pred = brb_model.predict(X_val_part)\n",
    "\n",
    "    accuracy = accuracy_score(y_val_part, y_val_pred)\n",
    "    precision = precision_score(y_val_part, y_val_pred, average='macro')\n",
    "    recall = recall_score(y_val_part, y_val_pred, average='macro')\n",
    "    f1 = f1_score(y_val_part, y_val_pred, average='macro')\n",
    "    accuracy_list.append(accuracy)\n",
    "    precision_list.append(precision)\n",
    "    recall_list.append(recall)\n",
    "    f1_list.append(f1)\n",
    "\n",
    "print(f'BRBMDL 5折交叉驗證 平均 Accuracy: {np.mean(accuracy_list) * 100:.2f}')\n",
    "print(f'BRBMDL 5折交叉驗證 平均 Precision: {np.mean(precision_list) * 100:.2f}')\n",
    "print(f'BRBMDL 5折交叉驗證 平均 Recall: {np.mean(recall_list) * 100:.2f}')\n",
    "print(f'BRBMDL 5折交叉驗證 平均 F1 Score: {np.mean(f1_list) * 100:.2f}')"
   ]
  }
 ],
 "metadata": {
  "kernelspec": {
   "display_name": "brbm",
   "language": "python",
   "name": "python3"
  },
  "language_info": {
   "codemirror_mode": {
    "name": "ipython",
    "version": 3
   },
   "file_extension": ".py",
   "mimetype": "text/x-python",
   "name": "python",
   "nbconvert_exporter": "python",
   "pygments_lexer": "ipython3",
   "version": "3.9.16"
  }
 },
 "nbformat": 4,
 "nbformat_minor": 2
}
