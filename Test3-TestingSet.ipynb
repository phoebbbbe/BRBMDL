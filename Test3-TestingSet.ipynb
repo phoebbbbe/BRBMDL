{
 "cells": [
  {
   "cell_type": "markdown",
   "id": "b6fa12ad",
   "metadata": {},
   "source": [
    "# Test3-Testing Set : Dataset-tmf"
   ]
  },
  {
   "cell_type": "code",
   "execution_count": null,
   "id": "52e82ff9",
   "metadata": {},
   "outputs": [],
   "source": [
    "from brbm import brbm\n",
    "from training import *\n",
    "from sklearn.metrics import accuracy_score, f1_score, precision_score, recall_score\n",
    "import pickle"
   ]
  },
  {
   "cell_type": "code",
   "execution_count": 10,
   "id": "095e15e3",
   "metadata": {},
   "outputs": [],
   "source": [
    "features = ['macd', 'rsi', 'k', 'd', 'r', 'close',\n",
    "            'before1day', 'before2day', 'before3day', 'before4day','before5day']\n",
    "target = 'dailyreturn'"
   ]
  },
  {
   "cell_type": "code",
   "execution_count": null,
   "id": "859812b1",
   "metadata": {},
   "outputs": [],
   "source": [
    "X_train, y_train = dataset_loading(features, target, \n",
    "                                   './data/tsmc_train_data.csv',\n",
    "                                   './data/foxconn_train_data.csv',\n",
    "                                   './data/mediatek_train_data.csv'\n",
    "                                   )\n",
    "y_train_label = process_dataset(y_train, target)"
   ]
  },
  {
   "cell_type": "code",
   "execution_count": null,
   "id": "53cdbe11",
   "metadata": {},
   "outputs": [],
   "source": [
    "# X_test, y_test = dataset_loading(features, target, \n",
    "#                                  './data/tsmc_test_data.csv',\n",
    "#                                  './data/foxconn_test_data.csv',\n",
    "#                                  './data/mediatek_test_data.csv')\n",
    "# y_test_label = process_dataset(y_test, target)"
   ]
  },
  {
   "cell_type": "code",
   "execution_count": 13,
   "id": "9071b2ce",
   "metadata": {},
   "outputs": [],
   "source": [
    "# brb_accs, brb_pres, brb_recs, brb_f1s = [], [], [], []\n",
    "# N = 1\n",
    "# for i in range(N):\n",
    "#     brb_model = brbm(features, target)\n",
    "#     brb_model.set_ante_labels(['superlow', 'low', 'medium', 'high', 'superhigh'])\n",
    "#     brb_model.set_cons_labels(['down', 'up'])\n",
    "#     brb_model.set_all_ante_fuzzy_ranges(X_train, y_train_label, features)\n",
    "#     # brb_model.set_all_ante_fuzzy_ranges('decision_tree_model3.pkl', features)\n",
    "#     cons_fuzzy_range = [\n",
    "#         [-1.0, -0.7, -0.25, 0.0],\n",
    "#         [0.0, 0.25, 0.7, 1.0]\n",
    "#     ]\n",
    "#     brb_model.set_cons_fuzzy_range(cons_fuzzy_range)\n",
    "\n",
    "#     brb_model.inital_database(X_train, y_train)\n",
    "#     brb_model.inital_rulebase()\n",
    "#     brb_model.preprocess_database()\n",
    "#     # brb_model.optimize(X_train, y_train, features, target)\n",
    "\n",
    "#     y_pred = brb_model.predict(X_test)\n",
    "#     accuracy = accuracy_score(y_test_label, y_pred)\n",
    "#     precision = precision_score(y_test_label, y_pred, average='macro')\n",
    "#     recall = recall_score(y_test_label, y_pred, average='macro')\n",
    "#     f1 = f1_score(y_test_label, y_pred, average='macro')\n",
    "\n",
    "#     brb_accs.append(accuracy)\n",
    "#     brb_pres.append(precision)\n",
    "#     brb_recs.append(recall)\n",
    "#     brb_f1s.append(f1)\n",
    "\n",
    "# print(f'BRBMDL Accuracy: {np.mean(brb_accs) * 100:.2f}')\n",
    "# print(f'BRBMDL Precision: {np.mean(brb_pres) * 100:.2f}')\n",
    "# print(f'BRBMDL Recall: {np.mean(brb_recs) * 100:.2f}')\n",
    "# print(f'BRBMDL F1 Score: {np.mean(brb_f1s) * 100:.2f}')\n"
   ]
  },
  {
   "cell_type": "code",
   "execution_count": null,
   "id": "529a8a23",
   "metadata": {},
   "outputs": [],
   "source": [
    "# with open('./dtree_models/decision_tree_model3.pkl', 'wb') as f:\n",
    "#     pickle.dump(brb_model.dtree, f)"
   ]
  },
  {
   "cell_type": "code",
   "execution_count": 15,
   "id": "e406e565",
   "metadata": {},
   "outputs": [],
   "source": [
    "stocks = ['tsmc', 'mediatek', 'foxconn']"
   ]
  },
  {
   "cell_type": "code",
   "execution_count": null,
   "id": "77709feb",
   "metadata": {},
   "outputs": [
    {
     "name": "stderr",
     "output_type": "stream",
     "text": [
      "Optimize: 100%|██████████| 5065/5065 [11:06<00:00,  7.60it/s]\n"
     ]
    },
    {
     "name": "stdout",
     "output_type": "stream",
     "text": [
      "tsmc BRB Accuracy: 82.73\n",
      "tsmc BRB Precision: 82.88\n",
      "tsmc BRB Recall: 82.62\n",
      "tsmc BRB F1 Score: 82.67\n",
      "mediatek BRB Accuracy: 81.08\n",
      "mediatek BRB Precision: 81.13\n",
      "mediatek BRB Recall: 80.85\n",
      "mediatek BRB F1 Score: 80.93\n",
      "foxconn BRB Accuracy: 79.01\n",
      "foxconn BRB Precision: 78.94\n",
      "foxconn BRB Recall: 79.37\n",
      "foxconn BRB F1 Score: 78.91\n",
      "tsmc\n",
      "BRBMDL Accuracy: 82.73\n",
      "BRBMDL Precision: 82.88\n",
      "BRBMDL Recall: 82.62\n",
      "BRBMDL F1 Score: 82.67\n",
      "mediatek\n",
      "BRBMDL Accuracy: 81.08\n",
      "BRBMDL Precision: 81.13\n",
      "BRBMDL Recall: 80.85\n",
      "BRBMDL F1 Score: 80.93\n",
      "foxconn\n",
      "BRBMDL Accuracy: 79.01\n",
      "BRBMDL Precision: 78.94\n",
      "BRBMDL Recall: 79.37\n",
      "BRBMDL F1 Score: 78.91\n"
     ]
    }
   ],
   "source": [
    "brb_accs, brb_pres, brb_recs, brb_f1s = {}, {}, {}, {}\n",
    "for stock in stocks:\n",
    "    brb_accs[stock] = []\n",
    "    brb_pres[stock] = []\n",
    "    brb_recs[stock] = []\n",
    "    brb_f1s[stock] = []\n",
    "    \n",
    "N = 1\n",
    "for i in range(N):\n",
    "\n",
    "    brb_model = brbm(features, target)\n",
    "    brb_model.set_ante_labels(['superlow', 'low', 'medium', 'high', 'superhigh'])\n",
    "    brb_model.set_cons_labels(['down', 'up'])\n",
    "    # brb_model.set_all_ante_fuzzy_ranges(X_train, y_train_label, features)\n",
    "    brb_model.set_all_ante_fuzzy_ranges('./dtree_models/decision_tree_model3.pkl', features)\n",
    "    cons_fuzzy_range = [\n",
    "        [-1.0, -0.7, -0.25, 0.0],\n",
    "        [0.0, 0.25, 0.7, 1.0]\n",
    "    ]\n",
    "    brb_model.set_cons_fuzzy_range(cons_fuzzy_range)\n",
    "\n",
    "    brb_model.inital_database(X_train, y_train)\n",
    "    brb_model.inital_rulebase()\n",
    "    brb_model.preprocess_database()\n",
    "    brb_model.optimize(X_train, y_train, features, target)\n",
    "\n",
    "    for stock in stocks:\n",
    "        X_test, y_test = dataset_loading(features, target, f'./{stock}_test_data.csv',)\n",
    "        y_test_label = process_dataset(y_test, target)\n",
    "        y_pred = brb_model.predict(X_test)\n",
    "\n",
    "        accuracy = accuracy_score(y_test_label, y_pred)\n",
    "        precision = precision_score(y_test_label, y_pred, average='macro')\n",
    "        recall = recall_score(y_test_label, y_pred, average='macro')\n",
    "        f1 = f1_score(y_test_label, y_pred, average='macro')\n",
    "\n",
    "        \n",
    "        print(f'{stock} BRB Accuracy: {accuracy * 100:.2f}')\n",
    "        print(f'{stock} BRB Precision: {precision * 100:.2f}')\n",
    "        print(f'{stock} BRB Recall: {recall * 100:.2f}')\n",
    "        print(f'{stock} BRB F1 Score: {f1 * 100:.2f}')\n",
    "\n",
    "        brb_accs[stock].append(accuracy)\n",
    "        brb_pres[stock].append(precision)\n",
    "        brb_recs[stock].append(recall)\n",
    "        brb_f1s[stock].append(f1)\n",
    "\n",
    "for stock in stocks:\n",
    "    print(f'{stock}')\n",
    "    print(f'BRBMDL Accuracy: {np.mean(brb_accs[stock]) * 100:.2f}')\n",
    "    print(f'BRBMDL Precision: {np.mean(brb_pres[stock]) * 100:.2f}')\n",
    "    print(f'BRBMDL Recall: {np.mean(brb_recs[stock]) * 100:.2f}')\n",
    "    print(f'BRBMDL F1 Score: {np.mean(brb_f1s[stock]) * 100:.2f}')\n"
   ]
  }
 ],
 "metadata": {
  "kernelspec": {
   "display_name": "brbm",
   "language": "python",
   "name": "python3"
  },
  "language_info": {
   "codemirror_mode": {
    "name": "ipython",
    "version": 3
   },
   "file_extension": ".py",
   "mimetype": "text/x-python",
   "name": "python",
   "nbconvert_exporter": "python",
   "pygments_lexer": "ipython3",
   "version": "3.9.16"
  }
 },
 "nbformat": 4,
 "nbformat_minor": 5
}
