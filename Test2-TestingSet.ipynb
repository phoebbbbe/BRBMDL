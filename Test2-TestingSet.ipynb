{
 "cells": [
  {
   "cell_type": "markdown",
   "id": "631f6c49",
   "metadata": {},
   "source": [
    "# Test2-Testing Set : Dataset-taiex -o/w sentiment"
   ]
  },
  {
   "cell_type": "code",
   "execution_count": 4,
   "id": "e9fe34e8",
   "metadata": {},
   "outputs": [],
   "source": [
    "from brbmdl import brbm, dataset_loading, process_dataset\n",
    "import numpy as np\n",
    "import pandas as pd\n",
    "from sklearn.metrics import accuracy_score, f1_score, precision_score, recall_score\n",
    "import pickle"
   ]
  },
  {
   "cell_type": "code",
   "execution_count": 5,
   "id": "7063263e",
   "metadata": {},
   "outputs": [],
   "source": [
    "features = ['macd', 'rsi', 'k', 'd', 'r', 'close',\n",
    "            'before1day', 'before2day', 'before3day', 'before4day','before5day']\n",
    "target = 'dailyreturn'"
   ]
  },
  {
   "cell_type": "code",
   "execution_count": 6,
   "id": "fe212d09",
   "metadata": {},
   "outputs": [],
   "source": [
    "X_train, y_train = dataset_loading(features, target, './data/taiex_train_data.csv')\n",
    "X_test, y_test = dataset_loading(features, target, './data/taiex_test_data.csv')\n",
    "\n",
    "y_train_label = process_dataset(y_train, target)\n",
    "y_test_label = process_dataset(y_test, target)"
   ]
  },
  {
   "cell_type": "code",
   "execution_count": null,
   "id": "50e52832",
   "metadata": {},
   "outputs": [
    {
     "name": "stderr",
     "output_type": "stream",
     "text": [
      "Optimize: 100%|██████████| 1686/1686 [04:32<00:00,  6.20it/s]\n"
     ]
    },
    {
     "name": "stdout",
     "output_type": "stream",
     "text": [
      "BRBMDL Accuracy: 80.77\n",
      "BRBMDL Precision: 80.92\n",
      "BRBMDL Recall: 81.25\n",
      "BRBMDL F1 Score: 80.74\n"
     ]
    }
   ],
   "source": [
    "brb_accs, brb_pres, brb_recs, brb_f1s = [], [], [], []\n",
    "N = 1\n",
    "for i in range(N):\n",
    "    brb_model = brbm(features, target)\n",
    "    brb_model.set_ante_labels(['superlow', 'low', 'medium', 'high', 'superhigh'])\n",
    "    brb_model.set_cons_labels(['down', 'up'])\n",
    "    # brb_model.set_all_ante_fuzzy_ranges(X_train, y_train_label, features)\n",
    "    brb_model.set_all_ante_fuzzy_ranges('./dtree_models/decision_tree_model2.pkl', features)\n",
    "    cons_fuzzy_range = [\n",
    "        [-1.0, -0.7, -0.25, 0.0],\n",
    "        [0.0, 0.25, 0.7, 1.0]\n",
    "    ]\n",
    "    brb_model.set_cons_fuzzy_range(cons_fuzzy_range)\n",
    "\n",
    "    brb_model.inital_database(X_train, y_train)\n",
    "    brb_model.inital_rulebase()\n",
    "    brb_model.preprocess_database()\n",
    "    brb_model.optimize(X_train, y_train, features, target)\n",
    "\n",
    "    y_pred = brb_model.predict(X_test)\n",
    "    accuracy = accuracy_score(y_test_label, y_pred)\n",
    "    precision = precision_score(y_test_label, y_pred, average='macro')\n",
    "    recall = recall_score(y_test_label, y_pred, average='macro')\n",
    "    f1 = f1_score(y_test_label, y_pred, average='macro')\n",
    "\n",
    "    brb_accs.append(accuracy)\n",
    "    brb_pres.append(precision)\n",
    "    brb_recs.append(recall)\n",
    "    brb_f1s.append(f1)\n",
    "\n",
    "print(f'BRBMDL Accuracy: {np.mean(brb_accs) * 100:.2f}')\n",
    "print(f'BRBMDL Precision: {np.mean(brb_pres) * 100:.2f}')\n",
    "print(f'BRBMDL Recall: {np.mean(brb_recs) * 100:.2f}')\n",
    "print(f'BRBMDL F1 Score: {np.mean(brb_f1s) * 100:.2f}')\n"
   ]
  },
  {
   "cell_type": "code",
   "execution_count": null,
   "id": "6f1dfbfc",
   "metadata": {},
   "outputs": [],
   "source": [
    "# with open('./dtree_models/decision_tree_model2.pkl', 'wb') as f:\n",
    "#     pickle.dump(brb_model.dtree, f)"
   ]
  },
  {
   "cell_type": "code",
   "execution_count": null,
   "id": "e61fb7a1",
   "metadata": {},
   "outputs": [],
   "source": [
    "# with open('./dtree_models/decision_tree_model2.pkl', 'rb') as f:\n",
    "#     loaded_model = pickle.load(f)"
   ]
  }
 ],
 "metadata": {
  "kernelspec": {
   "display_name": "brbm",
   "language": "python",
   "name": "python3"
  },
  "language_info": {
   "codemirror_mode": {
    "name": "ipython",
    "version": 3
   },
   "file_extension": ".py",
   "mimetype": "text/x-python",
   "name": "python",
   "nbconvert_exporter": "python",
   "pygments_lexer": "ipython3",
   "version": "3.9.16"
  }
 },
 "nbformat": 4,
 "nbformat_minor": 5
}
