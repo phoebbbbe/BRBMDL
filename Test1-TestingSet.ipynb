{
 "cells": [
  {
   "cell_type": "markdown",
   "id": "37f04cb6",
   "metadata": {},
   "source": [
    "# Test1-Testing Set : Dataset-taiex -full model"
   ]
  },
  {
   "cell_type": "code",
   "execution_count": 1,
   "id": "8feca5c6",
   "metadata": {},
   "outputs": [],
   "source": [
    "from brbmdl import brbm, dataset_loading, process_dataset\n",
    "import numpy as np\n",
    "import pandas as pd\n",
    "from sklearn.metrics import accuracy_score, f1_score, precision_score, recall_score\n",
    "import pickle"
   ]
  },
  {
   "cell_type": "code",
   "execution_count": 2,
   "id": "8dfdefcc",
   "metadata": {},
   "outputs": [],
   "source": [
    "features = ['macd', 'rsi', 'k', 'd', 'r', 'close',\n",
    "            'before1day', 'before2day', 'before3day', 'before4day','before5day',\n",
    "            'sentiment']\n",
    "target = 'dailyreturn'"
   ]
  },
  {
   "cell_type": "code",
   "execution_count": 3,
   "id": "76ca4ef3",
   "metadata": {},
   "outputs": [],
   "source": [
    "X_train, y_train = dataset_loading(features, target, './data/taiex_full_train_data.csv')\n",
    "X_test, y_test = dataset_loading(features, target, './data/taiex_full_test_data.csv')\n",
    "\n",
    "y_train_label = process_dataset(y_train, target)\n",
    "y_test_label = process_dataset(y_test, target)"
   ]
  },
  {
   "cell_type": "code",
   "execution_count": null,
   "id": "dc3ff8b4",
   "metadata": {},
   "outputs": [],
   "source": [
    "brb_model = brbm(features, target)\n",
    "brb_model.set_ante_labels(['superlow', 'low', 'medium', 'high', 'superhigh'])\n",
    "brb_model.set_cons_labels(['down', 'up'])\n",
    "# brb_model.set_all_ante_fuzzy_ranges(X_train, y_train_label, features)\n",
    "brb_model.set_all_ante_fuzzy_ranges('./dtree_models/decision_tree_model1.pkl', features)\n",
    "cons_fuzzy_range = [\n",
    "    [-1.0, -0.7, -0.25, 0.0],\n",
    "    [0.0, 0.25, 0.7, 1.0]\n",
    "]\n",
    "brb_model.set_cons_fuzzy_range(cons_fuzzy_range)"
   ]
  },
  {
   "cell_type": "code",
   "execution_count": null,
   "id": "dc0758b0",
   "metadata": {},
   "outputs": [
    {
     "name": "stderr",
     "output_type": "stream",
     "text": [
      "Optimize: 100%|██████████| 1180/1180 [03:57<00:00,  4.98it/s]\n"
     ]
    },
    {
     "name": "stdout",
     "output_type": "stream",
     "text": [
      "BRBMDL Accuracy: 82.63\n",
      "BRBMDL Precision: 82.03\n",
      "BRBMDL Recall: 82.51\n",
      "BRBMDL F1 Score: 82.22\n"
     ]
    }
   ],
   "source": [
    "brb_accs, brb_pres, brb_recs, brb_f1s = [], [], [], []\n",
    "N = 1\n",
    "for i in range(N):\n",
    "    brb_model = brbm(features, target)\n",
    "    brb_model.set_ante_labels(['superlow', 'low', 'medium', 'high', 'superhigh'])\n",
    "    brb_model.set_cons_labels(['down', 'up'])\n",
    "    # brb_model.set_all_ante_fuzzy_ranges(X_train, y_train_label, features)\n",
    "    brb_model.set_all_ante_fuzzy_ranges('./dtree_models/decision_tree_model1.pkl', features)\n",
    "    cons_fuzzy_range = [\n",
    "        [-1.0, -0.7, -0.25, 0.0],\n",
    "        [0.0, 0.25, 0.7, 1.0]\n",
    "    ]\n",
    "    brb_model.set_cons_fuzzy_range(cons_fuzzy_range)\n",
    "\n",
    "    brb_model.inital_database(X_train, y_train)\n",
    "    brb_model.inital_rulebase()\n",
    "    brb_model.preprocess_database()\n",
    "    brb_model.optimize(X_train, y_train, features, target)\n",
    "\n",
    "    y_pred = brb_model.predict(X_test)\n",
    "    accuracy = accuracy_score(y_test_label, y_pred)\n",
    "    precision = precision_score(y_test_label, y_pred, average='macro')\n",
    "    recall = recall_score(y_test_label, y_pred, average='macro')\n",
    "    f1 = f1_score(y_test_label, y_pred, average='macro')\n",
    "\n",
    "    brb_accs.append(accuracy)\n",
    "    brb_pres.append(precision)\n",
    "    brb_recs.append(recall)\n",
    "    brb_f1s.append(f1)\n",
    "\n",
    "print(f'BRBMDL Accuracy: {np.mean(brb_accs) * 100:.2f}')\n",
    "print(f'BRBMDL Precision: {np.mean(brb_pres) * 100:.2f}')\n",
    "print(f'BRBMDL Recall: {np.mean(brb_recs) * 100:.2f}')\n",
    "print(f'BRBMDL F1 Score: {np.mean(brb_f1s) * 100:.2f}')\n"
   ]
  },
  {
   "cell_type": "code",
   "execution_count": null,
   "id": "5556e3a0",
   "metadata": {},
   "outputs": [],
   "source": [
    "# with open('./dtree_models/decision_tree_model1.pkl', 'wb') as f:\n",
    "#     pickle.dump(brb_model.dtree, f)"
   ]
  },
  {
   "cell_type": "code",
   "execution_count": null,
   "id": "2c8f6d11",
   "metadata": {},
   "outputs": [],
   "source": [
    "# with open('./dtree_models/decision_tree_model1.pkl', 'rb') as f:\n",
    "#     loaded_model = pickle.load(f)"
   ]
  }
 ],
 "metadata": {
  "kernelspec": {
   "display_name": "brbm",
   "language": "python",
   "name": "python3"
  },
  "language_info": {
   "codemirror_mode": {
    "name": "ipython",
    "version": 3
   },
   "file_extension": ".py",
   "mimetype": "text/x-python",
   "name": "python",
   "nbconvert_exporter": "python",
   "pygments_lexer": "ipython3",
   "version": "3.9.16"
  }
 },
 "nbformat": 4,
 "nbformat_minor": 5
}
